{
 "cells": [
  {
   "cell_type": "code",
   "execution_count": null,
   "id": "d27657b4",
   "metadata": {},
   "outputs": [],
   "source": [
    "#Class Test 1"
   ]
  },
  {
   "cell_type": "code",
   "execution_count": null,
   "id": "997f4afb",
   "metadata": {},
   "outputs": [],
   "source": [
    "#Question 1 - Write a python function and display all the number below 25000 in a given list.\n",
    "# lst=[22500,50005,45000,19350,25000,10250,15505]"
   ]
  },
  {
   "cell_type": "code",
   "execution_count": 2,
   "id": "70937ff7",
   "metadata": {},
   "outputs": [],
   "source": [
    "lst=[22500,50005,45000,19350,25000,10250,15505]\n",
    "lov=[val for val in lst if val <25000]"
   ]
  },
  {
   "cell_type": "code",
   "execution_count": 3,
   "id": "05cca37a",
   "metadata": {},
   "outputs": [
    {
     "data": {
      "text/plain": [
       "[22500, 19350, 10250, 15505]"
      ]
     },
     "execution_count": 3,
     "metadata": {},
     "output_type": "execute_result"
    }
   ],
   "source": [
    "lov"
   ]
  },
  {
   "cell_type": "code",
   "execution_count": null,
   "id": "906f2a94",
   "metadata": {},
   "outputs": [],
   "source": [
    "#Question 2 - Display rohit salary in a two given list.\n",
    "#emp_salary=[2000,4000,5000,6000,6500,5200]\n",
    "#emp_name=[\"farahad\",\"shankar\",\"rohit\",\"aastha\",\"sheetal\",\"abhishek\"]\n",
    "#output want- Dear rohit your salary is 5000. "
   ]
  },
  {
   "cell_type": "code",
   "execution_count": null,
   "id": "b8a982d3",
   "metadata": {},
   "outputs": [],
   "source": []
  },
  {
   "cell_type": "code",
   "execution_count": 5,
   "id": "d6d9c5b0",
   "metadata": {},
   "outputs": [],
   "source": [
    "emp_salary=[2000,4000,5000,6000,6500,5200]\n",
    "emp_name=[\"farahad\",\"shankar\",\"rohit\",\"aastha\",\"sheetal\",\"abhishek\"]\n"
   ]
  },
  {
   "cell_type": "code",
   "execution_count": 8,
   "id": "9c607d53",
   "metadata": {},
   "outputs": [
    {
     "name": "stdout",
     "output_type": "stream",
     "text": [
      "Dear rohit your salary is 5000\n"
     ]
    }
   ],
   "source": [
    "for val in emp_name:\n",
    "    if val==\"rohit\":\n",
    "        emp_index=emp_name.index(val)\n",
    "        print(\"Dear\",val,\"your salary is\",emp_salary[emp_index])"
   ]
  },
  {
   "cell_type": "code",
   "execution_count": 9,
   "id": "eee3b9ce",
   "metadata": {},
   "outputs": [],
   "source": [
    "# DS0522_saurav.vicky16@gmail.com_que3Write python code to calculate health premium. \n",
    "# Accept data from user through input keyword and use function.\n",
    "\n",
    "#GENDER - male and female ONLY\n",
    "#DATE OF BIRTH - year ONLY (no date and month).\n",
    "#SMOKER - yes and no ONLY\n",
    "#Premium criteria should be,\n",
    "\n",
    "#for MALE born between 1990 - 2000 and if he is a smoker, print as \"Your annual premium is Rs 35000\"\n",
    "#and for non-smoker apply discount 10% to 35000 and print final discounted price\n",
    "\n",
    "#if born between 1970-1990 and smoker, premium is 40000 and for nonsmoker apply 5% discount to 40000 \n",
    "#and print final price\n",
    "\n",
    "#for FEMALE born between 1990 - 2000 and if she is a smoker, premium is Rs 30000 and for non-smoker \n",
    "#apply discount 10% to 30000 and print final discounted price\n",
    "\n",
    "#if born between 1970-1990 and smoker, premium is 35000 and for nonsmoker apply 5% discount to 35000\n",
    "#and print final price\n"
   ]
  },
  {
   "cell_type": "code",
   "execution_count": 10,
   "id": "a298642a",
   "metadata": {},
   "outputs": [],
   "source": [
    "def age_calculator(gender,dob,smoker):\n",
    "   \n",
    "    \n",
    "    if gender==\"Male\":\n",
    "        if dob>1990 and dob<2000:\n",
    "            if smoker==\"Yes\":\n",
    "                print(\"Your annual premium is Rs 35000\")\n",
    "            else:\n",
    "                print(\"You get 10% Discount\",35000-(35000*0.1))\n",
    "        elif  dob>=1970 and dob<1990:\n",
    "           \n",
    "            if smoker==\"Yes\":\n",
    "                print( \"Your annual premium is 40000\")\n",
    "            else:\n",
    "                print(\"You get 5% discount\",40000-(5/100)*40000)\n",
    "    elif gender==\"Female\":\n",
    "        if dob>1990 and dob<2000:\n",
    "            if smoker==\"Yes\":\n",
    "                print(\"Your annual premium is Rs 30000\")\n",
    "            else:\n",
    "                print(\"You get 10% discount\",30000-(30000*0.1))\n",
    "        elif dob>=1970 and dob<=1990:\n",
    "            if smoker==\"Yes\":\n",
    "                print(\"Your annual premium is Rs 35000\")\n",
    "            else:\n",
    "                print(\"You get 5% Discount\",35000-(5/100)*35000)\n",
    "                \n",
    "    \n",
    "    "
   ]
  },
  {
   "cell_type": "code",
   "execution_count": 11,
   "id": "f6c80bf2",
   "metadata": {},
   "outputs": [
    {
     "name": "stdout",
     "output_type": "stream",
     "text": [
      "Your annual premium is 40000\n"
     ]
    }
   ],
   "source": [
    "age_calculator('Male',1985,\"Yes\")"
   ]
  },
  {
   "cell_type": "code",
   "execution_count": null,
   "id": "793c0e26",
   "metadata": {},
   "outputs": [],
   "source": [
    "#Student of data trained-Saurav\n",
    "#student of data science\n",
    "#Date-03-07-2022\n",
    "#and for your kind information i am fail in this exam.\n"
   ]
  }
 ],
 "metadata": {
  "kernelspec": {
   "display_name": "Python 3 (ipykernel)",
   "language": "python",
   "name": "python3"
  },
  "language_info": {
   "codemirror_mode": {
    "name": "ipython",
    "version": 3
   },
   "file_extension": ".py",
   "mimetype": "text/x-python",
   "name": "python",
   "nbconvert_exporter": "python",
   "pygments_lexer": "ipython3",
   "version": "3.9.12"
  }
 },
 "nbformat": 4,
 "nbformat_minor": 5
}
